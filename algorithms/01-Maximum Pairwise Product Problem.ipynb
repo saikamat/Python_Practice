{
 "cells": [
  {
   "cell_type": "markdown",
   "metadata": {},
   "source": [
    "## Maximum Pairwise Product Problem\n",
    "Find the maximum product of two distinct numbers in a sequence of non-negative integers.\n",
    "\n",
    "## Input: \n",
    "A sequence of non-negative integers.\n",
    "## Output: \n",
    "The maximum value that can be obtained by multiplying two different elements from the sequence.\n",
    "\n",
    "Given a sequence of non-negative integers $a_1 , . . . , a_n$ , compute\n",
    "$$max_{1≤i\\neq j≤n} (a_i · a_j) .$$\n",
    "\n",
    "Note that `i` and `j` should be different, though it may be the case that $a_i = a_j$ .\n",
    "\n",
    "## Input format\n",
    "The first line contains an integer `n`. The next line contains `n` non-negative integers $a_1 , . . . , a_n$(separated by spaces).\n",
    "\n",
    "## Output format. The maximum pairwise product.\n",
    "\n",
    "## Constraints\n",
    "$2 ≤ n ≤ 2 · 10^5 ; 0 ≤ a_1 , . . . , a_n ≤ 2 · 10^5 .$"
   ]
  },
  {
   "cell_type": "code",
   "execution_count": 2,
   "metadata": {},
   "outputs": [],
   "source": [
    "def max_pairwise_product_fast(input_numbers):\n",
    "    index_1 = 1\n",
    "    for i in range(2, len(input_numbers)):\n",
    "        if input_numbers[i] > input_numbers[index_1]:\n",
    "            index_1 = i\n",
    "    \n",
    "    if index_1 == 1:\n",
    "        index_2 = 2\n",
    "    else:\n",
    "        index_2 = 1\n",
    "    \n",
    "    for i in range(1, len(input_numbers)):\n",
    "        if input_numbers[i] != input_numbers[index_1] and input_numbers[i] > input_numbers[index_2]:\n",
    "            index_2 = i\n",
    "            \n",
    "    return input_numbers[index_1]*input_numbers[index_2]"
   ]
  },
  {
   "cell_type": "code",
   "execution_count": 3,
   "metadata": {},
   "outputs": [
    {
     "name": "stdout",
     "output_type": "stream",
     "text": [
      "10\n",
      "1 2 4 6 10 20 34 11 43 12\n",
      "1462\n"
     ]
    }
   ],
   "source": [
    "if __name__ == '__main__':\n",
    "    input_n = int(input())\n",
    "    input_numbers = [int(x) for x in input().split()]\n",
    "    print(max_pairwise_product_fast(input_numbers))"
   ]
  },
  {
   "cell_type": "code",
   "execution_count": null,
   "metadata": {},
   "outputs": [],
   "source": []
  }
 ],
 "metadata": {
  "kernelspec": {
   "display_name": "Python 3",
   "language": "python",
   "name": "python3"
  },
  "language_info": {
   "codemirror_mode": {
    "name": "ipython",
    "version": 3
   },
   "file_extension": ".py",
   "mimetype": "text/x-python",
   "name": "python",
   "nbconvert_exporter": "python",
   "pygments_lexer": "ipython3",
   "version": "3.7.4"
  }
 },
 "nbformat": 4,
 "nbformat_minor": 2
}
