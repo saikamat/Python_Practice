{
 "cells": [
  {
   "cell_type": "markdown",
   "metadata": {},
   "source": [
    "# Greedy Algorithm\n",
    "## What does it mean?\n",
    "\n",
    "In this problem, the goal is to find the minimum number of coins (with particular value) which add up to a given amount of money. Minimum coin change problem is often solved by either Dynamic Programming or Greedy algorithm . Here we have opted greedy algorithm to solve this problem.\n",
    "\n",
    "## Concept of minimum coin change problem\n",
    "Assuming there is an infinte supply of currency, an amount A has to be paid with minimum number of coins/notes, provided there are n kinds of coins with specific denomination/value from vi to vn Greedy algorithm is way where we make a choice which seems the best at that step. For more details, read the article on Greedy algorithm.\n",
    "So the greedy strategy is to visualize the best option i.e. heighest valued coin at each step for best results. Here we sort the coin's value in decreasing order and start with the heighest valued coin.\n",
    "\n",
    "### Illustration of minimum coin change problem\n",
    "Let an amount of `₹27` is to be paid and coins/notes of values `1, 2, 5, 10` and `50` is available in ample amount"
   ]
  },
  {
   "cell_type": "code",
   "execution_count": 15,
   "metadata": {},
   "outputs": [],
   "source": [
    "def min_coins(coin_value, n, amount):\n",
    "    for i in range(0, n):\n",
    "        while amount >= coin_value[i]:\n",
    "            amount = amount - coin_value[i]\n",
    "            print(coin_value[i])"
   ]
  },
  {
   "cell_type": "code",
   "execution_count": 17,
   "metadata": {},
   "outputs": [
    {
     "name": "stdout",
     "output_type": "stream",
     "text": [
      "Enter amount to be paid: \n",
      "30\n",
      "Enter all currency values: \n",
      "1 2 5 10 15 20 25\n",
      "The selected currency values are:\n",
      "25\n",
      "5\n"
     ]
    }
   ],
   "source": [
    "print( \"Enter amount to be paid: \")\n",
    "amount = input()\n",
    "\n",
    "coin_value = [] #stores coins' values as per the user\n",
    "\n",
    "print( \"Enter all currency values: \")\n",
    "coin_value = list(map(int, input().split()))\n",
    "\n",
    "coin_value.sort(reverse=True)\n",
    "print( \"The selected currency values are:\")\n",
    "\n",
    "min_coins(coin_value, len(coin_value), int(amount))"
   ]
  },
  {
   "cell_type": "code",
   "execution_count": null,
   "metadata": {},
   "outputs": [],
   "source": []
  }
 ],
 "metadata": {
  "kernelspec": {
   "display_name": "Python 3",
   "language": "python",
   "name": "python3"
  },
  "language_info": {
   "codemirror_mode": {
    "name": "ipython",
    "version": 3
   },
   "file_extension": ".py",
   "mimetype": "text/x-python",
   "name": "python",
   "nbconvert_exporter": "python",
   "pygments_lexer": "ipython3",
   "version": "3.7.4"
  }
 },
 "nbformat": 4,
 "nbformat_minor": 2
}
