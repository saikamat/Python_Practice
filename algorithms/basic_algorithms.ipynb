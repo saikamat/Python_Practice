{
 "cells": [
  {
   "cell_type": "markdown",
   "metadata": {},
   "source": [
    "## Recursion\n",
    "\n",
    "- allows function to call itself\n",
    "- below we see recursive approach to binary search"
   ]
  },
  {
   "cell_type": "markdown",
   "metadata": {},
   "source": []
  },
  {
   "cell_type": "code",
   "execution_count": 1,
   "metadata": {},
   "outputs": [
    {
     "name": "stdout",
     "output_type": "stream",
     "text": [
      "2\n"
     ]
    }
   ],
   "source": [
    "def bsearch(list, index0, indexN, value):\n",
    "    if (indexN < index0):\n",
    "        return None\n",
    "    else:\n",
    "        midval = index0 + ((indexN - index0) // 2)\n",
    "    ## compare search item with middle value\n",
    "    if list[midval] > value:\n",
    "        return bsearch(list, index0, midval-1, value)\n",
    "    elif list[midval] > value:\n",
    "        return bsearch(list, index0, midval+1, value)\n",
    "    else:\n",
    "        return midval\n",
    "    \n",
    "list = [8, 11, 24, 56, 88, 131]\n",
    "\n",
    "print(bsearch(list, 0, 5, 24))\n"
   ]
  },
  {
   "cell_type": "markdown",
   "metadata": {},
   "source": []
  }
 ],
 "metadata": {
  "kernelspec": {
   "display_name": "script_env",
   "language": "python",
   "name": "python3"
  },
  "language_info": {
   "codemirror_mode": {
    "name": "ipython",
    "version": 3
   },
   "file_extension": ".py",
   "mimetype": "text/x-python",
   "name": "python",
   "nbconvert_exporter": "python",
   "pygments_lexer": "ipython3",
   "version": "3.9.6"
  },
  "orig_nbformat": 4
 },
 "nbformat": 4,
 "nbformat_minor": 2
}
