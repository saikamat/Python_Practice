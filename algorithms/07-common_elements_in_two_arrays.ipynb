{
 "cells": [
  {
   "cell_type": "markdown",
   "metadata": {},
   "source": [
    "## method 01"
   ]
  },
  {
   "cell_type": "code",
   "execution_count": null,
   "metadata": {},
   "outputs": [],
   "source": [
    "A = [1, 3, 4, 6, 7, 9, 10, 20, 40, 1, 22, 100, 20, 202]\n",
    "B = [1, 2, 4, 5, 9, 10, 10, 1, 202, 202, 1, 11]"
   ]
  },
  {
   "cell_type": "code",
   "execution_count": 2,
   "metadata": {},
   "outputs": [
    {
     "name": "stdout",
     "output_type": "stream",
     "text": [
      "[1, 4, 9, 10, 1, 202]\n"
     ]
    }
   ],
   "source": [
    "def common_elements(A, B):  #O(n^2)\n",
    "  check = []\n",
    "  for num in A:\n",
    "    if num in B:\n",
    "      check.append(num)\n",
    "  return check\n",
    "  \n",
    "print(common_elements(A, B))"
   ]
  },
  {
   "cell_type": "markdown",
   "metadata": {},
   "source": [
    "## method 02\n",
    "this has a time complexity of `O(nm)`"
   ]
  },
  {
   "cell_type": "code",
   "execution_count": 4,
   "metadata": {},
   "outputs": [
    {
     "name": "stdout",
     "output_type": "stream",
     "text": [
      "[1, 4, 9, 10, 202]\n"
     ]
    }
   ],
   "source": [
    "def common_elements2(A, B):\n",
    "    ind_a, ind_b = 0, 0\n",
    "    result = []\n",
    "    \n",
    "    while ind_a < len(A) and ind_b < len(B):\n",
    "        if A[ind_a] == B[ind_b]:\n",
    "            result.append(A[ind_a])\n",
    "            ind_a += 1\n",
    "            ind_b += 1\n",
    "        elif A[ind_a] > B[ind_b]:\n",
    "            ind_b +=1\n",
    "        else:\n",
    "            ind_a += 1\n",
    "    return result\n",
    "\n",
    "print(common_elements2(A, B))\n",
    "                "
   ]
  },
  {
   "cell_type": "code",
   "execution_count": null,
   "metadata": {},
   "outputs": [],
   "source": []
  },
  {
   "cell_type": "code",
   "execution_count": null,
   "metadata": {},
   "outputs": [],
   "source": []
  }
 ],
 "metadata": {
  "kernelspec": {
   "display_name": "Python 3",
   "language": "python",
   "name": "python3"
  },
  "language_info": {
   "codemirror_mode": {
    "name": "ipython",
    "version": 3
   },
   "file_extension": ".py",
   "mimetype": "text/x-python",
   "name": "python",
   "nbconvert_exporter": "python",
   "pygments_lexer": "ipython3",
   "version": "3.7.4"
  }
 },
 "nbformat": 4,
 "nbformat_minor": 2
}
