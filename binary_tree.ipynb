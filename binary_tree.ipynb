{
 "cells": [
  {
   "cell_type": "markdown",
   "metadata": {},
   "source": [
    "# Binary Trees"
   ]
  },
  {
   "cell_type": "code",
   "execution_count": 1,
   "metadata": {},
   "outputs": [],
   "source": [
    "class Node:\n",
    "    def __init__(self, data):\n",
    "        self.data = data\n",
    "        self.left = None\n",
    "        self.right = None"
   ]
  },
  {
   "cell_type": "code",
   "execution_count": 2,
   "metadata": {},
   "outputs": [],
   "source": [
    "class BinaryTree:\n",
    "    def __init__(self, data=None):\n",
    "        self.root = Node(data)\n",
    "        self.node_list = []\n",
    "        \n",
    "    def printTreeDepthFirst(self, root):\n",
    "        if root:\n",
    "            print (root.data)\n",
    "            self.printTreeDepthFirst(root.left)\n",
    "            self.printTreeDepthFirst(root.right)\n",
    "        return\n",
    "\n",
    "    def printTreeBreadthFirst(self, root):\n",
    "        if root:\n",
    "            if root not in self.node_list:\n",
    "                print (root.data)\n",
    "            if root.left is not None:\n",
    "                self.node_list.append(root.left)\n",
    "                print (root.left.data)\n",
    "            if root.right is not None:\n",
    "                self.node_list.append(root.right)\n",
    "                print (root.right.data)\n",
    "            self.printTreeBreadthFirst(root.left)\n",
    "            self.printTreeBreadthFirst(root.right)\n",
    "        return"
   ]
  },
  {
   "cell_type": "code",
   "execution_count": 3,
   "metadata": {},
   "outputs": [],
   "source": [
    "def createTree():\n",
    "    tree = BinaryTree(1)\n",
    "    tree.root.left = Node(2)\n",
    "    tree.root.right = Node(3)\n",
    "    tree.root.left.left = Node(4)\n",
    "    tree.root.left.right = Node(5)\n",
    "    tree.root.right.left = Node(6)\n",
    "    tree.root.right.right = Node(7)\n",
    "    return tree"
   ]
  },
  {
   "cell_type": "code",
   "execution_count": 4,
   "metadata": {},
   "outputs": [],
   "source": [
    "tree = createTree()"
   ]
  },
  {
   "cell_type": "markdown",
   "metadata": {},
   "source": [
    "```\n",
    "                      1\n",
    "                     / \\\n",
    "                    /   \\\n",
    "                   2     3\n",
    "                  / \\   / \\\n",
    "                 4   5 6   7\n",
    "```"
   ]
  },
  {
   "cell_type": "code",
   "execution_count": 5,
   "metadata": {},
   "outputs": [
    {
     "name": "stdout",
     "output_type": "stream",
     "text": [
      "1\n",
      "2\n",
      "4\n",
      "5\n",
      "3\n",
      "6\n",
      "7\n"
     ]
    }
   ],
   "source": [
    "tree.printTreeDepthFirst(tree.root)"
   ]
  },
  {
   "cell_type": "code",
   "execution_count": 6,
   "metadata": {},
   "outputs": [
    {
     "name": "stdout",
     "output_type": "stream",
     "text": [
      "1\n",
      "2\n",
      "3\n",
      "4\n",
      "5\n",
      "6\n",
      "7\n"
     ]
    }
   ],
   "source": [
    "tree.printTreeBreadthFirst(tree.root)"
   ]
  },
  {
   "cell_type": "code",
   "execution_count": null,
   "metadata": {},
   "outputs": [],
   "source": []
  }
 ],
 "metadata": {
  "kernelspec": {
   "display_name": "Python 3",
   "language": "python",
   "name": "python3"
  },
  "language_info": {
   "codemirror_mode": {
    "name": "ipython",
    "version": 3
   },
   "file_extension": ".py",
   "mimetype": "text/x-python",
   "name": "python",
   "nbconvert_exporter": "python",
   "pygments_lexer": "ipython3",
   "version": "3.7.4"
  }
 },
 "nbformat": 4,
 "nbformat_minor": 2
}
