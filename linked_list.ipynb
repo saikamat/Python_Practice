{
 "cells": [
  {
   "cell_type": "markdown",
   "metadata": {},
   "source": [
    "# Single Linked List"
   ]
  },
  {
   "cell_type": "code",
   "execution_count": 15,
   "metadata": {},
   "outputs": [],
   "source": [
    "# first, define the class node, which contains data about node, and points to next node. the pointer is given by 'next'\n",
    "class Node:\n",
    "    def __init__(self, data):\n",
    "        self.data = data\n",
    "        self.next = None"
   ]
  },
  {
   "cell_type": "code",
   "execution_count": 16,
   "metadata": {},
   "outputs": [],
   "source": [
    "# second, create the class LinkedList which contains the constructor given by __init__().        \n",
    "class LinkedList:\n",
    "    def __init__(self):\n",
    "        self.head = None\n",
    "        \n",
    "    def countNodes(self):\n",
    "        temp = self.head\n",
    "        count = 0\n",
    "        while (temp is not None):\n",
    "            count += 1\n",
    "            temp = temp.next\n",
    "        return count"
   ]
  },
  {
   "cell_type": "markdown",
   "metadata": {},
   "source": [
    "The `countNodes()` traverses the list as long as the node is not None. When node is `None`, it has reached the end of the list"
   ]
  },
  {
   "cell_type": "code",
   "execution_count": 9,
   "metadata": {},
   "outputs": [],
   "source": []
  },
  {
   "cell_type": "markdown",
   "metadata": {},
   "source": [
    "The `insertNodes()` inserts a new node into the existing Linked List"
   ]
  },
  {
   "cell_type": "code",
   "execution_count": null,
   "metadata": {},
   "outputs": [],
   "source": [
    "    def insertNode(self, new_node, new_data):\n",
    "        if new_node is None:\n",
    "            print('Nothing left to add...')\n",
    "            return\n",
    "        \n",
    "        inserted_node = Node(new_data)\n",
    "        inserted_node.next = "
   ]
  },
  {
   "cell_type": "markdown",
   "metadata": {},
   "source": [
    "Creating the linked list's nodes"
   ]
  },
  {
   "cell_type": "code",
   "execution_count": 17,
   "metadata": {},
   "outputs": [],
   "source": [
    "L_list = LinkedList()\n",
    "L_list.head = Node(1)\n",
    "second = Node(2)\n",
    "third = Node(3)"
   ]
  },
  {
   "cell_type": "markdown",
   "metadata": {},
   "source": [
    "### Connecting nodes to each other\n",
    "`L_list.head` is the head node in the list.\n",
    "Consequently, `L_list.head.next` is the second node in the list, and so on..."
   ]
  },
  {
   "cell_type": "code",
   "execution_count": 18,
   "metadata": {},
   "outputs": [],
   "source": [
    "L_list.head.next = second\n",
    "second.next = third"
   ]
  },
  {
   "cell_type": "code",
   "execution_count": 19,
   "metadata": {},
   "outputs": [
    {
     "data": {
      "text/plain": [
       "3"
      ]
     },
     "execution_count": 19,
     "metadata": {},
     "output_type": "execute_result"
    }
   ],
   "source": [
    "L_list.countNodes()"
   ]
  },
  {
   "cell_type": "markdown",
   "metadata": {},
   "source": [
    "# Level 2\n",
    "inserting a new node, and printing the list"
   ]
  },
  {
   "cell_type": "code",
   "execution_count": 22,
   "metadata": {},
   "outputs": [],
   "source": [
    "class Node:\n",
    "    def __init__(self, data=None, next=None):\n",
    "        self.data = data\n",
    "        self.next = None\n",
    "    \n",
    "    def getData(self):\n",
    "        return self.data\n",
    "    \n",
    "    def getNext(self):\n",
    "        return self.next\n",
    "    \n",
    "    def setNext(self, new_next):\n",
    "        # the next node is the one passed in parameter.\n",
    "        # the self node which invokes this function now becomes the previous node.\n",
    "        self.next = new_next"
   ]
  },
  {
   "cell_type": "code",
   "execution_count": null,
   "metadata": {},
   "outputs": [],
   "source": [
    "class LinkedList:\n",
    "    def __init__(self, head=None):\n",
    "        self.head = head\n",
    "        \n",
    "    def printList(self):\n",
    "        temp = self.head\n",
    "        while (temp):\n",
    "            print(temp.data)\n",
    "            temp = temp.next"
   ]
  },
  {
   "cell_type": "markdown",
   "metadata": {},
   "source": [
    "Let's say to an existing list `1->2->3`, you add a new node `4`.\n",
    "therefore: `new_node = Node(4)`\n",
    "\n",
    "now you set the next node is this `4` as the current head.\n",
    "`[4].setNext(1)`\n",
    "\n",
    "and in `setNext()` function, whatever value is is sent as parameter, becomes the new next node.\n",
    "i.e. `[4]->[1]`"
   ]
  },
  {
   "cell_type": "code",
   "execution_count": 31,
   "metadata": {},
   "outputs": [],
   "source": [
    "    def insertNodeAtHead(self, data):\n",
    "        # create a new node which has 'data' in it.\n",
    "    \n",
    "        new_node = Node(data)\n",
    "        \n",
    "        # let the node to the next of this new_node be the current head node\n",
    "        new_node.setNext(self.head)\n",
    "        \n",
    "        # the new head of the linked list is the new_node.\n",
    "        self.head = new_node\n",
    "        "
   ]
  },
  {
   "cell_type": "code",
   "execution_count": 32,
   "metadata": {},
   "outputs": [],
   "source": [
    "L_list = LinkedList()\n",
    "L_list.head = Node(1)\n",
    "second = Node(2)\n",
    "third = Node(3)\n",
    "\n",
    "L_list.head.next = second\n",
    "second.next = third"
   ]
  },
  {
   "cell_type": "code",
   "execution_count": 33,
   "metadata": {},
   "outputs": [],
   "source": [
    "L_list.insertNodeAtHead(4)"
   ]
  },
  {
   "cell_type": "code",
   "execution_count": 34,
   "metadata": {},
   "outputs": [
    {
     "name": "stdout",
     "output_type": "stream",
     "text": [
      "4\n",
      "1\n",
      "2\n",
      "3\n"
     ]
    }
   ],
   "source": [
    "L_list.printList()"
   ]
  }
 ],
 "metadata": {
  "kernelspec": {
   "display_name": "Python 3",
   "language": "python",
   "name": "python3"
  },
  "language_info": {
   "codemirror_mode": {
    "name": "ipython",
    "version": 3
   },
   "file_extension": ".py",
   "mimetype": "text/x-python",
   "name": "python",
   "nbconvert_exporter": "python",
   "pygments_lexer": "ipython3",
   "version": "3.7.4"
  }
 },
 "nbformat": 4,
 "nbformat_minor": 2
}
