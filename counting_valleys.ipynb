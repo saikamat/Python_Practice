{
 "cells": [
  {
   "cell_type": "code",
   "execution_count": 1,
   "metadata": {},
   "outputs": [],
   "source": [
    "#!/bin/python3\n",
    "\n",
    "import math\n",
    "import os\n",
    "import random\n",
    "import re\n",
    "import sys"
   ]
  },
  {
   "cell_type": "code",
   "execution_count": 7,
   "metadata": {},
   "outputs": [],
   "source": [
    "def mapToBinaries(s, n):\n",
    "    binarized_array = []\n",
    "    for k in range(n):\n",
    "        if s[k] == 'U':\n",
    "            binarized_array.append(1)\n",
    "        else:\n",
    "            binarized_array.append(-1)\n",
    "#     print(\"binarized_array: \", binarized_array)\n",
    "    return binarized_array\n",
    "    \n",
    "def sumMap(binarized_array, n):\n",
    "    sum_arr = []\n",
    "    sum = 0\n",
    "    for j in range(n):\n",
    "        sum = binarized_array[j]+sum\n",
    "        sum_arr.append(sum)\n",
    "#     print(\"sum_arr: \", sum_arr)\n",
    "    return sum_arr\n",
    "\n",
    "\n",
    "# Complete the countingValleys function below.\n",
    "def countingValleys(n, s):\n",
    "    binarized_array = mapToBinaries(s, n)\n",
    "    sum_arr = sumMap(binarized_array, n)\n",
    "    pos = 0\n",
    "    valley_count = 0\n",
    "    print(\"binarized_array: \", binarized_array)\n",
    "    print(\"sum_arr: \", sum_arr)\n",
    "    for i in range(n):\n",
    "        if sum_arr[i]<0:\n",
    "            pos = i\n",
    "            while sum_arr[pos+1]<0:\n",
    "                pos=pos+1\n",
    "            valley_count=valley_count+1\n",
    "            i = pos+1\n",
    "    return valley_count"
   ]
  },
  {
   "cell_type": "code",
   "execution_count": 8,
   "metadata": {},
   "outputs": [
    {
     "name": "stdout",
     "output_type": "stream",
     "text": [
      "8\n",
      "UDDDUDUU\n",
      "binarized_array:  [1, -1, -1, -1, 1, -1, 1, 1]\n",
      "sum_arr:  [1, 0, -1, -2, -1, -2, -1, 0]\n",
      "5\n"
     ]
    }
   ],
   "source": [
    "if __name__ == '__main__':\n",
    "#     fptr = open(os.environ['OUTPUT_PATH'], 'w')\n",
    "\n",
    "    n = int(input())\n",
    "\n",
    "    s = input()\n",
    "    result = countingValleys(n, s)\n",
    "    print(result)\n",
    "#     fptr.write(str(result) + '\\n')\n",
    "\n",
    "#     fptr.close()"
   ]
  },
  {
   "cell_type": "code",
   "execution_count": null,
   "metadata": {},
   "outputs": [],
   "source": []
  }
 ],
 "metadata": {
  "kernelspec": {
   "display_name": "Python 3",
   "language": "python",
   "name": "python3"
  },
  "language_info": {
   "codemirror_mode": {
    "name": "ipython",
    "version": 3
   },
   "file_extension": ".py",
   "mimetype": "text/x-python",
   "name": "python",
   "nbconvert_exporter": "python",
   "pygments_lexer": "ipython3",
   "version": "3.7.3"
  }
 },
 "nbformat": 4,
 "nbformat_minor": 2
}
