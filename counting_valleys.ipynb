{
 "cells": [
  {
   "cell_type": "markdown",
   "metadata": {},
   "source": [
    "# Counting Valleys\n",
    "Gary is an avid hiker. He tracks his hikes meticulously, paying close attention to small details like topography. During his last hike he took exactly `n` steps. For every step he took, he noted if it was an uphill,`U` , or a downhill, `D` step. Gary's hikes start and end at sea level and each step up or down represents a `1` unit change in altitude. We define the following terms:\n",
    "\n",
    "- A mountain is a sequence of consecutive steps above sea level, starting with a step up from sea level and ending with a step down to sea level.\n",
    "- A valley is a sequence of consecutive steps below sea level, starting with a step down from sea level and ending with a step up to sea level.\n",
    "\n",
    "Given Gary's sequence of up and down steps during his last hike, find and print the number of valleys he walked through.\n",
    "\n",
    "For example, if Gary's path is `s=[DDUUUDD]`, he first enters a valley units deep. Then he climbs out an up onto a mountain `2` units high. Finally, he returns to sea level and ends his hike.\n",
    "\n",
    "## Function Description\n",
    "\n",
    "Complete the countingValleys function in the editor below. It must return an integer that denotes the number of valleys Gary traversed.\n",
    "\n",
    "countingValleys has the following parameter(s):\n",
    "```\n",
    "    n: the number of steps Gary takes\n",
    "    s: a string describing his path\n",
    "```\n",
    "## Input Format\n",
    "\n",
    "The first line contains an integer `n`, the number of steps in Gary's hike. The second line contains a single string `s`, of `n` characters that describe his path.\n",
    "\n",
    "## Constraints\n",
    "- $2 <=n <= 10^6$\n",
    "- $s[i] \\epsilon {UD}$\n",
    "\n",
    "## Output Format\n",
    "\n",
    "Print a single integer that denotes the number of valleys Gary walked through during his hike.\n",
    "\n",
    "## Sample Input\n",
    "```\n",
    "8\n",
    "UDDDUDUU\n",
    "```\n",
    "## Sample Output\n",
    "```\n",
    "1\n",
    "```\n",
    "## Explanation\n",
    "\n",
    "If we represent _ as sea level, a step up as /, and a step down as \\, Gary's hike can be drawn as:\n",
    "```\n",
    "_/\\      _\n",
    "   \\    /\n",
    "    \\/\\/\n",
    "```\n",
    "He enters and leaves one valley."
   ]
  },
  {
   "cell_type": "code",
   "execution_count": 1,
   "metadata": {},
   "outputs": [],
   "source": [
    "#!/bin/python3\n",
    "\n",
    "import math\n",
    "import os\n",
    "import random\n",
    "import re\n",
    "import sys"
   ]
  },
  {
   "cell_type": "code",
   "execution_count": 2,
   "metadata": {},
   "outputs": [],
   "source": [
    "def mapToBinaries(s, n):\n",
    "    binarized_array = []\n",
    "    for k in range(n):\n",
    "        if s[k] == 'U':\n",
    "            binarized_array.append(1)\n",
    "        else:\n",
    "            binarized_array.append(-1)\n",
    "#     print(\"binarized_array: \", binarized_array)\n",
    "    return binarized_array\n",
    "    \n",
    "def sumMap(binarized_array, n):\n",
    "    sum_arr = []\n",
    "    sum = 0\n",
    "    for j in range(n):\n",
    "        sum = binarized_array[j]+sum\n",
    "        sum_arr.append(sum)\n",
    "#     print(\"sum_arr: \", sum_arr)\n",
    "    return sum_arr\n",
    "\n",
    "\n",
    "# Complete the countingValleys function below.\n",
    "def countingValleys(n, s):\n",
    "    binarized_array = mapToBinaries(s, n)\n",
    "    sum_arr = sumMap(binarized_array, n)\n",
    "    pos = 0\n",
    "    valley_count = 0\n",
    "    i = 0\n",
    "    while i < n:\n",
    "        if sum_arr[i] < 0:\n",
    "            pos = i\n",
    "            while sum_arr[pos + 1] < 0:\n",
    "                pos = pos + 1\n",
    "            valley_count = valley_count + 1\n",
    "            i = pos + 1\n",
    "        else:\n",
    "            i = i + 1\n",
    "    return valley_count\n",
    "        \n",
    "    print(\"i_arr:\",i_arr)\n",
    "    return valley_count"
   ]
  },
  {
   "cell_type": "code",
   "execution_count": 3,
   "metadata": {},
   "outputs": [
    {
     "name": "stdout",
     "output_type": "stream",
     "text": [
      "8\n",
      "UDDDUDUU\n",
      "1\n"
     ]
    }
   ],
   "source": [
    "if __name__ == '__main__':\n",
    "#     fptr = open(os.environ['OUTPUT_PATH'], 'w')\n",
    "\n",
    "    n = int(input())\n",
    "\n",
    "    s = input()\n",
    "    result = countingValleys(n, s)\n",
    "    print(result)\n",
    "#     fptr.write(str(result) + '\\n')\n",
    "\n",
    "#     fptr.close()"
   ]
  },
  {
   "cell_type": "code",
   "execution_count": null,
   "metadata": {},
   "outputs": [],
   "source": []
  }
 ],
 "metadata": {
  "kernelspec": {
   "display_name": "Python 3",
   "language": "python",
   "name": "python3"
  },
  "language_info": {
   "codemirror_mode": {
    "name": "ipython",
    "version": 3
   },
   "file_extension": ".py",
   "mimetype": "text/x-python",
   "name": "python",
   "nbconvert_exporter": "python",
   "pygments_lexer": "ipython3",
   "version": "3.7.3"
  }
 },
 "nbformat": 4,
 "nbformat_minor": 2
}
