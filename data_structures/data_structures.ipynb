{
 "cells": [
  {
   "cell_type": "code",
   "execution_count": 2,
   "metadata": {},
   "outputs": [
    {
     "name": "stdout",
     "output_type": "stream",
     "text": [
      "3\n",
      "Monday\n",
      "<bound method Queue.removeFromQueue of <__main__.Queue object at 0x105aea970>>\n"
     ]
    }
   ],
   "source": [
    "## Queue\n",
    "\n",
    "class Queue:\n",
    "    def __init__(self):\n",
    "        self.queue = list()\n",
    "\n",
    "    ## Adding elements to Queue\n",
    "    def addToQueue(self, datavalue):\n",
    "        if datavalue not in self.queue:\n",
    "            self.queue.insert(0, datavalue)\n",
    "            return True\n",
    "        return False\n",
    "    \n",
    "    ## remove from queue\n",
    "    def removeFromQueue(self):\n",
    "        if len(self.queue) > 0:\n",
    "            return self.queue.pop()\n",
    "        return (\"No elements in Queue\")\n",
    "    \n",
    "    def size(self):\n",
    "        return len(self.queue)\n",
    "    \n",
    "\n",
    "Queue = Queue()\n",
    "\n",
    "## Adding elements to Queue\n",
    "Queue.addToQueue(\"Monday\")\n",
    "Queue.addToQueue(\"Tuesday\")\n",
    "Queue.addToQueue(\"Wednesday\")\n",
    "\n",
    "print(Queue.size())\n",
    "\n",
    "## remove from queue\n",
    "print(Queue.removeFromQueue())\n",
    "print(Queue.removeFromQueue())"
   ]
  },
  {
   "cell_type": "markdown",
   "metadata": {},
   "source": []
  }
 ],
 "metadata": {
  "kernelspec": {
   "display_name": "script_env",
   "language": "python",
   "name": "python3"
  },
  "language_info": {
   "codemirror_mode": {
    "name": "ipython",
    "version": 3
   },
   "file_extension": ".py",
   "mimetype": "text/x-python",
   "name": "python",
   "nbconvert_exporter": "python",
   "pygments_lexer": "ipython3",
   "version": "3.9.6"
  },
  "orig_nbformat": 4
 },
 "nbformat": 4,
 "nbformat_minor": 2
}
