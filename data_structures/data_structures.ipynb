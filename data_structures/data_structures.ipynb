{
 "cells": [
  {
   "cell_type": "code",
   "execution_count": 3,
   "metadata": {},
   "outputs": [
    {
     "name": "stdout",
     "output_type": "stream",
     "text": [
      "3\n",
      "Monday\n",
      "Tuesday\n"
     ]
    }
   ],
   "source": [
    "## Queue\n",
    "\n",
    "class Queue:\n",
    "    def __init__(self):\n",
    "        self.queue = list()\n",
    "\n",
    "    ## Adding elements to Queue\n",
    "    def addToQueue(self, datavalue):\n",
    "        if datavalue not in self.queue:\n",
    "            self.queue.insert(0, datavalue)\n",
    "            return True\n",
    "        return False\n",
    "    \n",
    "    ## remove from queue\n",
    "    def removeFromQueue(self):\n",
    "        if len(self.queue) > 0:\n",
    "            return self.queue.pop()\n",
    "        return (\"No elements in Queue\")\n",
    "    \n",
    "    def size(self):\n",
    "        return len(self.queue)\n",
    "    \n",
    "\n",
    "Queue = Queue()\n",
    "\n",
    "## Adding elements to Queue\n",
    "Queue.addToQueue(\"Monday\")\n",
    "Queue.addToQueue(\"Tuesday\")\n",
    "Queue.addToQueue(\"Wednesday\")\n",
    "\n",
    "print(Queue.size())\n",
    "\n",
    "## remove from queue\n",
    "print(Queue.removeFromQueue())\n",
    "print(Queue.removeFromQueue())"
   ]
  },
  {
   "cell_type": "markdown",
   "metadata": {},
   "source": [
    "### Dequeue\n",
    "\n",
    "Double-ended queue where adding and removing happens from the pther end."
   ]
  },
  {
   "cell_type": "code",
   "execution_count": 5,
   "metadata": {},
   "outputs": [
    {
     "name": "stdout",
     "output_type": "stream",
     "text": [
      "Appended at right - \n",
      "deque(['Mon', 'Tue', 'Wed', 'Thu'])\n",
      "Appended at right at left is - \n",
      "deque(['Sun', 'Mon', 'Tue', 'Wed', 'Thu'])\n",
      "deque(['Sun', 'Mon', 'Tue', 'Wed'])\n",
      "Deleting from the left -\n",
      "deque(['Mon', 'Tue', 'Wed'])\n"
     ]
    }
   ],
   "source": [
    "import collections\n",
    "\n",
    "DoubleEndedQueue = collections.deque([\"Mon\", \"Tue\", \"Wed\"])\n",
    "DoubleEndedQueue.append(\"Thu\")\n",
    "\n",
    "print(\"Appended at right - \")\n",
    "print(DoubleEndedQueue)\n",
    "\n",
    "DoubleEndedQueue.appendleft(\"Sun\")\n",
    "print(\"Appended at right at left is - \")\n",
    "print(DoubleEndedQueue)\n",
    "\n",
    "DoubleEndedQueue.pop()\n",
    "print(DoubleEndedQueue)\n",
    "\n",
    "DoubleEndedQueue.popleft()\n",
    "print(\"Deleting from the left -\")\n",
    "print(DoubleEndedQueue)"
   ]
  },
  {
   "cell_type": "markdown",
   "metadata": {},
   "source": []
  },
  {
   "cell_type": "code",
   "execution_count": null,
   "metadata": {},
   "outputs": [],
   "source": []
  }
 ],
 "metadata": {
  "kernelspec": {
   "display_name": "script_env",
   "language": "python",
   "name": "python3"
  },
  "language_info": {
   "codemirror_mode": {
    "name": "ipython",
    "version": 3
   },
   "file_extension": ".py",
   "mimetype": "text/x-python",
   "name": "python",
   "nbconvert_exporter": "python",
   "pygments_lexer": "ipython3",
   "version": "3.9.6"
  },
  "orig_nbformat": 4
 },
 "nbformat": 4,
 "nbformat_minor": 2
}
