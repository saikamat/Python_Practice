{
 "cells": [
  {
   "cell_type": "markdown",
   "metadata": {},
   "source": [
    "### 1. Classes and Objects:\n",
    "\n",
    "A class is a blueprint or template for creating objects, and an object is an instance of a class.\n",
    "\n",
    "Real-World Application: In autonomous driving, a \"Car\" class can represent a physical vehicle with attributes like make, model, speed, and methods for controlling the car's behavior."
   ]
  },
  {
   "cell_type": "code",
   "execution_count": 2,
   "metadata": {},
   "outputs": [],
   "source": [
    "class Car:\n",
    "    def __init__(self, make, model):\n",
    "        self.make = make\n",
    "        self.model = model\n",
    "        \n",
    "my_car = Car(\"Tesla\", \"Model 3\")"
   ]
  },
  {
   "cell_type": "markdown",
   "metadata": {},
   "source": [
    "### 2. Encapsulation:\n",
    "\n",
    "Encapsulation is the concept of bundling data (attributes) and methods (functions) that operate on the data into a single unit (a class)."
   ]
  },
  {
   "cell_type": "code",
   "execution_count": 3,
   "metadata": {},
   "outputs": [],
   "source": [
    "class Car:\n",
    "    def __init__(self, make, model):\n",
    "        self.make = make\n",
    "        self.model = model\n",
    "        self.speed = 0\n",
    "        \n",
    "    def accelerate(self):\n",
    "        self.speed += 10\n",
    "        \n",
    "    def brake(self):\n",
    "        self.speed -= 10\n"
   ]
  },
  {
   "cell_type": "markdown",
   "metadata": {},
   "source": [
    "    Real-World Application: Encapsulation allows autonomous vehicles to encapsulate sensor data, control logic, and navigation algorithms into a single, cohesive unit for safe and efficient operation.\n",
    "\n",
    "#### 3. Inheritance:\n",
    "\n",
    "    Definition: Inheritance allows you to create a new class (subclass or derived class) based on an existing class (base class or superclass). Subclasses inherit attributes and methods from their superclass."
   ]
  },
  {
   "cell_type": "code",
   "execution_count": 1,
   "metadata": {},
   "outputs": [],
   "source": [
    "class Car:\n",
    "    def __init__(self, make, model):\n",
    "        self.make = make\n",
    "        self.model = model\n",
    "        self.speed = 0\n",
    "        \n",
    "    def accelerate(self):\n",
    "        self.speed += 10\n",
    "        \n",
    "    def brake(self):\n",
    "        self.speed -= 10\n",
    "\n",
    "\n",
    "class ElectricCar(Car):\n",
    "    def __init__(self, make, model, battery_capacity):\n",
    "        super().__init__(make, model)\n",
    "        self.battery_capacity = battery_capacity\n",
    "        \n",
    "    def charge(self):\n",
    "        print(\"Charging the electric car.\")"
   ]
  },
  {
   "cell_type": "markdown",
   "metadata": {},
   "source": [
    "    Real-World Application: In autonomous driving, you can create specialized vehicle classes like \"ElectricCar\" that inherit common attributes and methods from the \"Car\" class but add electric-specific functionalities like charging.\n",
    "\n",
    "#### 4. Polymorphism:\n",
    "\n",
    "    Definition: Polymorphism allows objects of different classes to be treated as objects of a common superclass. It enables method overriding and dynamic method dispatch."
   ]
  },
  {
   "cell_type": "code",
   "execution_count": 4,
   "metadata": {},
   "outputs": [],
   "source": [
    "def calculate_speed(vehicle):\n",
    "    return vehicle.speed\n"
   ]
  },
  {
   "cell_type": "markdown",
   "metadata": {},
   "source": [
    "    Real-World Application: Polymorphism is useful in autonomous driving when you have different types of vehicles (e.g., cars, trucks, drones) with varying speed calculation methods but want a common interface to assess their speeds.\n",
    "\n",
    "#### 5. Abstraction:\n",
    "\n",
    "    Definition: Abstraction involves hiding the complex implementation details and showing only the essential features of an object.\n",
    "\n",
    "    Example in Python: Abstraction is a fundamental concept in OOP but is more evident in design patterns and high-level class structures.\n",
    "\n",
    "    Real-World Application: In autonomous driving, abstraction can be applied to sensor data processing, where complex sensor readings are abstracted into simpler, high-level information like \"obstacle detected\" or \"road clear.\"\n",
    "\n"
   ]
  }
 ],
 "metadata": {
  "kernelspec": {
   "display_name": "script_env",
   "language": "python",
   "name": "python3"
  },
  "language_info": {
   "codemirror_mode": {
    "name": "ipython",
    "version": 3
   },
   "file_extension": ".py",
   "mimetype": "text/x-python",
   "name": "python",
   "nbconvert_exporter": "python",
   "pygments_lexer": "ipython3",
   "version": "3.9.6"
  },
  "orig_nbformat": 4
 },
 "nbformat": 4,
 "nbformat_minor": 2
}
