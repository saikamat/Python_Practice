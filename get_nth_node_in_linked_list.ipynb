{
 "cells": [
  {
   "cell_type": "markdown",
   "metadata": {},
   "source": [
    "# Write a function to get Nth node in a Linked List\n",
    "\n",
    "\n",
    "Write a function to get Nth node in a Linked List\n",
    "\n",
    "Write a GetNth() function that takes a linked list and an integer index and returns the data value stored in the node at that index position.\n",
    "\n",
    "Example:\n",
    "```\n",
    "Input:  1->10->30->14,  index = 2\n",
    "Output: 30  \n",
    "The node at index 2 is 30\n",
    "```\n"
   ]
  },
  {
   "cell_type": "code",
   "execution_count": 4,
   "metadata": {},
   "outputs": [
    {
     "name": "stdout",
     "output_type": "stream",
     "text": [
      "index of node 3 is  4\n"
     ]
    }
   ],
   "source": [
    "class Node:\n",
    "    def __init__(self, data):\n",
    "        self.data = data\n",
    "        self.next = None\n",
    "\n",
    "class LinkedList:\n",
    "    def __init__(self):\n",
    "        self.head = None\n",
    "    \n",
    "    \n",
    "    def push(self, new_data):\n",
    "        new_node = Node(new_data)\n",
    "        new_node.next = self.head\n",
    "        self.head = new_node\n",
    "        \n",
    "    def getNthNode(self, index):\n",
    "        temp_node = self.head\n",
    "        temp_index = 0\n",
    "        \n",
    "        while (temp_node) is not None:\n",
    "            if (index == temp_index):\n",
    "                return temp_node.data\n",
    "            temp_index += 1\n",
    "            temp_node = temp_node.next\n",
    "            \n",
    "\n",
    "l_list = LinkedList()\n",
    "l_list.push(5)\n",
    "l_list.push(4)\n",
    "l_list.push(3)\n",
    "l_list.push(2)\n",
    "l_list.push(1)\n",
    "\n",
    "index = 3\n",
    "print('index of node', index, 'is ', l_list.getNthNode(index))\n"
   ]
  },
  {
   "cell_type": "code",
   "execution_count": null,
   "metadata": {},
   "outputs": [],
   "source": []
  }
 ],
 "metadata": {
  "kernelspec": {
   "display_name": "Python 3",
   "language": "python",
   "name": "python3"
  },
  "language_info": {
   "codemirror_mode": {
    "name": "ipython",
    "version": 3
   },
   "file_extension": ".py",
   "mimetype": "text/x-python",
   "name": "python",
   "nbconvert_exporter": "python",
   "pygments_lexer": "ipython3",
   "version": "3.7.4"
  }
 },
 "nbformat": 4,
 "nbformat_minor": 2
}
