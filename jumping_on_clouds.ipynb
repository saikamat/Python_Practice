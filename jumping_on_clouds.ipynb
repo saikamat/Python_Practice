{
 "cells": [
  {
   "cell_type": "code",
   "execution_count": 1,
   "metadata": {},
   "outputs": [],
   "source": [
    "#!/bin/python3\n",
    "\n",
    "import math\n",
    "import os\n",
    "import random\n",
    "import re\n",
    "import sys"
   ]
  },
  {
   "cell_type": "code",
   "execution_count": null,
   "metadata": {},
   "outputs": [],
   "source": [
    "def jumpingOnClouds(c):\n",
    "    "
   ]
  },
  {
   "cell_type": "code",
   "execution_count": null,
   "metadata": {},
   "outputs": [],
   "source": [
    "if __name__ == '__main__':\n",
    "#     fptr = open(os.environ['OUTPUT_PATH'], 'w')\n",
    "\n",
    "#     n = int(input())\n",
    "\n",
    "#     c = list(map(int, input().rstrip().split()))\n",
    "    c = [0, 0, 1, 0, 0, 1, 0]\n",
    "    result = jumpingOnClouds(c)\n",
    "\n",
    "#     fptr.write(str(result) + '\\n')\n",
    "\n",
    "#     fptr.close()"
   ]
  },
  {
   "cell_type": "code",
   "execution_count": null,
   "metadata": {},
   "outputs": [],
   "source": [
    "print(result)"
   ]
  },
  {
   "cell_type": "code",
   "execution_count": 14,
   "metadata": {},
   "outputs": [
    {
     "name": "stdout",
     "output_type": "stream",
     "text": [
      "0\n",
      "2\n",
      "4\n",
      "6\n",
      "8\n",
      "***\n",
      "6\n"
     ]
    }
   ],
   "source": [
    "# c = [0, 0, 1, 0, 0, 1, 0]\n",
    "# c = [0,0,0,0,1,0]\n",
    "c = [0, 1, 0, 0, 0, 1, 0, 1, 0, 1, 0 ,0]\n",
    "# c = [0,0,1,0,0,0,0,1,1,0]\n",
    "# c = [0,0,1,0,0,0,0,1,1,0,0]\n",
    "s=0\n",
    "i=0\n",
    "# for i in range(len(c)-2):\n",
    "while i<len(c)-2:\n",
    "    print(i)\n",
    "    if c[i+2] == 0:\n",
    "        s=s+1\n",
    "        i=i+2\n",
    "    elif c[i+1] == 0:\n",
    "        s=s+1\n",
    "        i=i+1\n",
    "    else:\n",
    "        break\n",
    "print('***')\n",
    "if c[-2] == 0:\n",
    "    print(s+1)\n",
    "else:\n",
    "    print(s)"
   ]
  },
  {
   "cell_type": "code",
   "execution_count": null,
   "metadata": {},
   "outputs": [],
   "source": []
  }
 ],
 "metadata": {
  "kernelspec": {
   "display_name": "Python 3",
   "language": "python",
   "name": "python3"
  },
  "language_info": {
   "codemirror_mode": {
    "name": "ipython",
    "version": 3
   },
   "file_extension": ".py",
   "mimetype": "text/x-python",
   "name": "python",
   "nbconvert_exporter": "python",
   "pygments_lexer": "ipython3",
   "version": "3.7.3"
  }
 },
 "nbformat": 4,
 "nbformat_minor": 2
}
