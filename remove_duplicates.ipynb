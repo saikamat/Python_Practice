{
 "cells": [
  {
   "cell_type": "code",
   "execution_count": 2,
   "metadata": {},
   "outputs": [
    {
     "name": "stdout",
     "output_type": "stream",
     "text": [
      "contieal\n"
     ]
    }
   ],
   "source": [
    "def fix(string):\n",
    "    s = set()\n",
    "    list = []\n",
    "    for ch in string:\n",
    "        if ch not in s:\n",
    "            s.add(ch)\n",
    "            list.append(ch)\n",
    "\n",
    "    return ''.join(list)        \n",
    "\n",
    "string = \"continental\"\n",
    "print(fix(string))"
   ]
  },
  {
   "cell_type": "code",
   "execution_count": null,
   "metadata": {},
   "outputs": [],
   "source": []
  }
 ],
 "metadata": {
  "kernelspec": {
   "display_name": "Python 3",
   "language": "python",
   "name": "python3"
  },
  "language_info": {
   "codemirror_mode": {
    "name": "ipython",
    "version": 3
   },
   "file_extension": ".py",
   "mimetype": "text/x-python",
   "name": "python",
   "nbconvert_exporter": "python",
   "pygments_lexer": "ipython3",
   "version": "3.7.4"
  }
 },
 "nbformat": 4,
 "nbformat_minor": 2
}
