{
 "cells": [
  {
   "cell_type": "markdown",
   "metadata": {},
   "source": [
    "# Python Tuples & Tuple Methods\n",
    "Tuples are ordered sequences of items. However they're different from `list` because unlike `list`, a `tuple` is **immutable**\n",
    "\n",
    "## initializing a tuple"
   ]
  },
  {
   "cell_type": "code",
   "execution_count": 1,
   "metadata": {},
   "outputs": [],
   "source": [
    "empty_tuple = ()"
   ]
  },
  {
   "cell_type": "code",
   "execution_count": 2,
   "metadata": {},
   "outputs": [],
   "source": [
    "empty_tuple2 = tuple()"
   ]
  },
  {
   "cell_type": "code",
   "execution_count": 3,
   "metadata": {},
   "outputs": [],
   "source": [
    "tuple_with_vals = (4, 5, 2, 3)"
   ]
  },
  {
   "cell_type": "code",
   "execution_count": 4,
   "metadata": {},
   "outputs": [],
   "source": [
    "another_tuple_with_vals = 4, 5, 2, 3"
   ]
  },
  {
   "cell_type": "markdown",
   "metadata": {},
   "source": [
    "## tuple with only one value\n",
    "always have a comma at the end"
   ]
  },
  {
   "cell_type": "code",
   "execution_count": 7,
   "metadata": {},
   "outputs": [],
   "source": [
    "best_superhero_ever = ('Batman', )"
   ]
  },
  {
   "cell_type": "markdown",
   "metadata": {},
   "source": [
    "## accessing tuples"
   ]
  },
  {
   "cell_type": "code",
   "execution_count": 16,
   "metadata": {},
   "outputs": [
    {
     "name": "stdout",
     "output_type": "stream",
     "text": [
      "index value\n",
      "0 4\n",
      "1 5\n",
      "2 2\n",
      "3 3\n"
     ]
    }
   ],
   "source": [
    "print('index value')\n",
    "for i in range(len(tuple_with_vals)):\n",
    "    print(i, tuple_with_vals[i])"
   ]
  },
  {
   "cell_type": "markdown",
   "metadata": {},
   "source": [
    "### with negative index"
   ]
  },
  {
   "cell_type": "code",
   "execution_count": 20,
   "metadata": {},
   "outputs": [
    {
     "name": "stdout",
     "output_type": "stream",
     "text": [
      "3\n"
     ]
    }
   ],
   "source": [
    "print(tuple_with_vals[-1])"
   ]
  },
  {
   "cell_type": "markdown",
   "metadata": {},
   "source": [
    "## tuple slicing"
   ]
  },
  {
   "cell_type": "code",
   "execution_count": 21,
   "metadata": {},
   "outputs": [
    {
     "name": "stdout",
     "output_type": "stream",
     "text": [
      "(4, 5)\n"
     ]
    }
   ],
   "source": [
    "print(tuple_with_vals[0:2])"
   ]
  },
  {
   "cell_type": "markdown",
   "metadata": {},
   "source": [
    "### print everything upto index `i`"
   ]
  },
  {
   "cell_type": "code",
   "execution_count": 23,
   "metadata": {},
   "outputs": [
    {
     "name": "stdout",
     "output_type": "stream",
     "text": [
      "(4, 5, 2)\n"
     ]
    }
   ],
   "source": [
    "print(tuple_with_vals[:3])"
   ]
  },
  {
   "cell_type": "markdown",
   "metadata": {},
   "source": [
    "## create new tuples from others"
   ]
  },
  {
   "cell_type": "code",
   "execution_count": 25,
   "metadata": {},
   "outputs": [
    {
     "name": "stdout",
     "output_type": "stream",
     "text": [
      "('Python', 'SQL', 'R')\n"
     ]
    }
   ],
   "source": [
    "data_science_language_tuple = ('Python', 'SQL')# Initialize another Tuple\n",
    "data_science_language_tuple2 = ('R',)# Create new tuple based on existing tuples\n",
    "data_science_net_tuple = data_science_language_tuple + data_science_language_tuple2;\n",
    "print(data_science_net_tuple)"
   ]
  },
  {
   "cell_type": "markdown",
   "metadata": {},
   "source": [
    "### return index of tuple"
   ]
  },
  {
   "cell_type": "code",
   "execution_count": 28,
   "metadata": {},
   "outputs": [
    {
     "name": "stdout",
     "output_type": "stream",
     "text": [
      "0\n"
     ]
    }
   ],
   "source": [
    "print(tuple_with_vals.index(4))"
   ]
  },
  {
   "cell_type": "markdown",
   "metadata": {},
   "source": [
    "### iterate through tuple"
   ]
  },
  {
   "cell_type": "code",
   "execution_count": 29,
   "metadata": {},
   "outputs": [
    {
     "name": "stdout",
     "output_type": "stream",
     "text": [
      "4\n",
      "5\n",
      "2\n",
      "3\n"
     ]
    }
   ],
   "source": [
    "for item in tuple_with_vals:\n",
    "    print(item)"
   ]
  },
  {
   "cell_type": "markdown",
   "metadata": {},
   "source": [
    "## enumerate\n",
    "\n",
    "`enumerate` function returns a tuple containing the count for every iterations. \n",
    "it starts from 0, and values are obtainined from iterating over a sequence"
   ]
  },
  {
   "cell_type": "code",
   "execution_count": 36,
   "metadata": {},
   "outputs": [
    {
     "name": "stdout",
     "output_type": "stream",
     "text": [
      "0 Rachel\n",
      "1 Monica\n",
      "2 Phoebe\n",
      "3 Chandler\n",
      "4 Joey\n",
      "5 Ross\n"
     ]
    }
   ],
   "source": [
    "friends = ('Rachel', 'Monica', 'Phoebe', 'Chandler', 'Joey', 'Ross')\n",
    "for index, character in enumerate(friends):\n",
    "    print(index, character)"
   ]
  },
  {
   "cell_type": "markdown",
   "metadata": {},
   "source": [
    "## Advantages of Tuples over Lists\n",
    "### Tuples are faster to process"
   ]
  },
  {
   "cell_type": "code",
   "execution_count": 42,
   "metadata": {},
   "outputs": [
    {
     "name": "stdout",
     "output_type": "stream",
     "text": [
      "tuple_time =  0.011925000000019281\n",
      "list_time =  0.0744672000000719\n",
      "tuple is faster by  83.98623823642117 %\n"
     ]
    }
   ],
   "source": [
    "import timeit\n",
    "\n",
    "tuple_time = timeit.timeit('x=(1,2,3,4,5,6,7,8,9,10,11,12)', number=1000000)\n",
    "list_time = timeit.timeit('x=[1,2,3,4,5,6,7,8,9,10,11,12]', number=1000000)\n",
    "\n",
    "faster_by = (list_time - tuple_time) * 100/list_time\n",
    "print('tuple_time = ', tuple_time)\n",
    "print('list_time = ', list_time)\n",
    "print('tuple is faster by ', faster_by, '%')"
   ]
  },
  {
   "cell_type": "markdown",
   "metadata": {},
   "source": [
    "## tuples can be dictionary keys"
   ]
  },
  {
   "cell_type": "code",
   "execution_count": 43,
   "metadata": {},
   "outputs": [
    {
     "data": {
      "text/plain": [
       "{('Two', 'Face'): 10, ('Oswald', 'Cobblepot'): 1000, ('Mr', 'Freeze'): -273}"
      ]
     },
     "execution_count": 43,
     "metadata": {},
     "output_type": "execute_result"
    }
   ],
   "source": [
    "con_dict = {('Two','Face'):10,\n",
    "           ('Oswald', 'Cobblepot'):1000,\n",
    "           ('Mr','Freeze'):-273}\n",
    "\n",
    "con_dict"
   ]
  },
  {
   "cell_type": "markdown",
   "metadata": {},
   "source": [
    "### tuples can be values in a set"
   ]
  },
  {
   "cell_type": "code",
   "execution_count": 50,
   "metadata": {},
   "outputs": [
    {
     "data": {
      "text/plain": [
       "{('a', 'hard', 'time'),\n",
       " ('finishing', 'a', 'sentence.'),\n",
       " ('have', 'a', 'a'),\n",
       " ('i', 'i', 'i')}"
      ]
     },
     "execution_count": 50,
     "metadata": {},
     "output_type": "execute_result"
    }
   ],
   "source": [
    "i_stutter_a_lot = set([('i', 'i', 'i'),\n",
    "                     ('have', 'a', 'a'),\n",
    "                     ('a', 'hard', 'time'),\n",
    "                     ('finishing','a','sentence.')])\n",
    "\n",
    "i_stutter_a_lot"
   ]
  },
  {
   "cell_type": "code",
   "execution_count": 54,
   "metadata": {},
   "outputs": [
    {
     "data": {
      "text/plain": [
       "{'Git', 'Python', 'R', 'SAS', 'SQL', 'Tableau'}"
      ]
     },
     "execution_count": 54,
     "metadata": {},
     "output_type": "execute_result"
    }
   ],
   "source": [
    "dataScientist = set(['Python', 'R', 'SQL', 'R', 'Git', 'Tableau', 'SAS'])\n",
    "dataScientist"
   ]
  },
  {
   "cell_type": "code",
   "execution_count": null,
   "metadata": {},
   "outputs": [],
   "source": []
  }
 ],
 "metadata": {
  "kernelspec": {
   "display_name": "Python 3",
   "language": "python",
   "name": "python3"
  },
  "language_info": {
   "codemirror_mode": {
    "name": "ipython",
    "version": 3
   },
   "file_extension": ".py",
   "mimetype": "text/x-python",
   "name": "python",
   "nbconvert_exporter": "python",
   "pygments_lexer": "ipython3",
   "version": "3.7.4"
  }
 },
 "nbformat": 4,
 "nbformat_minor": 2
}
