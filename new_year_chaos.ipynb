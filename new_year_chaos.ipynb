{
 "cells": [
  {
   "cell_type": "markdown",
   "metadata": {},
   "source": [
    "# New Year's Chaos\n",
    "\n",
    "It's New Year's Day and everyone's in line for the Wonderland rollercoaster ride! There are a number of people queued up, and each person wears a sticker indicating their initial position in the queue. Initial positions increment by 1 from 1 at the front of the line to `n` at the back.\n",
    "\n",
    "Any person in the queue can bribe the person directly in front of them to swap positions. If two people swap positions, they still wear the same sticker denoting their original places in line. One person can bribe at most two others. For example, if `n = 8` and `Person 5` bribes `Person 4`, the queue will look like this:\n",
    "`1,2,3,5,4,6,7,8`.\n",
    "\n",
    "Fascinated by this chaotic queue, you decide you must know the minimum number of bribes that took place to get the queue into its current state!\n",
    "\n",
    "## Function Description\n",
    "\n",
    "Complete the function minimumBribes in the editor below. It must print an integer representing the minimum number of bribes necessary, or `Too chaotic` if the line configuration is not possible.\n",
    "\n",
    "`minimumBribes` has the following parameter(s):\n",
    "\n",
    "    q: an array of integers\n",
    "\n",
    "## Input Format\n",
    "\n",
    "The first line contains an integer `t`, the number of test cases.\n",
    "\n",
    "Each of the next `t` pairs of lines are as follows:\n",
    "- The first line contains an integer , the number of people in the queue\n",
    "- The second line has space-separated integers describing the final state of the queue.\n",
    "\n",
    "## Constraints\n",
    "- $ 1<= t <= 10$\n",
    "- $ 1<= n <= 10^5$\n",
    "\n",
    "### Subtasks\n",
    "- For `60%` score $1<=n<=10^3$\n",
    "- For `100%` score, $1<=n<=10^5$\n",
    "\n",
    "## Output Format\n",
    "\n",
    "Print an integer denoting the minimum number of bribes needed to get the queue into its final state. Print `Too chaotic` if the state is invalid, i.e. it requires a person to have bribed more than `2` people.\n",
    "\n",
    "## Sample Input\n",
    "```\n",
    "2\n",
    "5\n",
    "2 1 5 3 4\n",
    "5\n",
    "2 5 1 3 4\n",
    "```\n",
    "\n",
    "## Sample Output\n",
    "```\n",
    "3\n",
    "Too chaotic\n",
    "```"
   ]
  },
  {
   "cell_type": "code",
   "execution_count": null,
   "metadata": {},
   "outputs": [],
   "source": []
  },
  {
   "cell_type": "code",
   "execution_count": null,
   "metadata": {},
   "outputs": [],
   "source": []
  }
 ],
 "metadata": {
  "kernelspec": {
   "display_name": "Python 3",
   "language": "python",
   "name": "python3"
  },
  "language_info": {
   "codemirror_mode": {
    "name": "ipython",
    "version": 3
   },
   "file_extension": ".py",
   "mimetype": "text/x-python",
   "name": "python",
   "nbconvert_exporter": "python",
   "pygments_lexer": "ipython3",
   "version": "3.7.3"
  }
 },
 "nbformat": 4,
 "nbformat_minor": 2
}
