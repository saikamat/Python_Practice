{
 "cells": [
  {
   "cell_type": "markdown",
   "metadata": {},
   "source": [
    "# Arrays Left Rotation"
   ]
  },
  {
   "cell_type": "markdown",
   "metadata": {},
   "source": [
    "A left rotation operation on an array shifts each of the arrays elements unit to the left. For example, if left rotations are performed on array `[1,2,3,4,5]`, then the array would become `[3,4,5,1,2]`\n",
    "\n",
    ".\n",
    "\n",
    "Given an array `a` of `n` integers and a number, `d` , perform `d` left rotations on the array. Return the updated array to be printed as a single line of space-separated integers.\n",
    "\n",
    "## Function Description\n",
    "\n",
    "Complete the function rotLeft in the editor below. It should return the resulting array of integers.\n",
    "\n",
    "rotLeft has the following parameter(s):\n",
    "\n",
    "- An array of integers `a`\n",
    "- An integer `d`,the number of rotations.\n",
    "\n",
    "## Input Format\n",
    "\n",
    "The first line contains two space-separated integers `n` and `d`, the size of and the number of left rotations you must perform.\n",
    "The second line contains `n` space-separated integers `a[i]`\n",
    "\n",
    "## Constraints\n",
    "\n",
    "$1 <=n <=10^5$\n",
    "$1<=d<=n$\n",
    "$1<=a[i]<=10^6$\n",
    "\n",
    "## Output Format\n",
    "\n",
    "Print a single line of `n` space-separated integers denoting the final state of the array after performing `d` left rotations.\n",
    "\n",
    "## Sample Input\n",
    "```\n",
    "5 4\n",
    "1 2 3 4 5\n",
    "```\n",
    "\n",
    "## Sample Output\n",
    "\n",
    "`5 1 2 3 4`"
   ]
  },
  {
   "cell_type": "code",
   "execution_count": null,
   "metadata": {},
   "outputs": [],
   "source": [
    "#!/bin/python3\n",
    "\n",
    "import math\n",
    "import os\n",
    "import random\n",
    "import re\n",
    "import sys"
   ]
  },
  {
   "cell_type": "code",
   "execution_count": null,
   "metadata": {},
   "outputs": [],
   "source": [
    "Complete the rotLeft function below.\n",
    "def rotLeft(a, d):\n",
    "    a_temp = a\n",
    "    for j in range(d):\n",
    "        a2 = []\n",
    "        for i in range(1, len(a_temp)):\n",
    "            a2.append(a_temp[i])\n",
    "        a2.append(a_temp[0])\n",
    "        a_temp = a2\n",
    "    return a2"
   ]
  },
  {
   "cell_type": "markdown",
   "metadata": {},
   "source": [
    "## method 02"
   ]
  },
  {
   "cell_type": "code",
   "execution_count": null,
   "metadata": {},
   "outputs": [],
   "source": [
    "def rotLeft(a, d):\n",
    "    print (' '.join(str(e) for e in (a[d:] + a[:d])))\n",
    "#     print (' '.join(str(e) for e in (a)))"
   ]
  },
  {
   "cell_type": "code",
   "execution_count": null,
   "metadata": {},
   "outputs": [],
   "source": [
    "if __name__ == '__main__':\n",
    "#     fptr = open(os.environ['OUTPUT_PATH'], 'w')\n",
    "\n",
    "    nd = input().split()\n",
    "\n",
    "    n = int(nd[0])\n",
    "\n",
    "    d = int(nd[1])\n",
    "\n",
    "    a = list(map(int, input().rstrip().split()))\n",
    "\n",
    "    result = rotLeft(a, d)\n",
    "\n",
    "#     fptr.write(' '.join(map(str, result)))\n",
    "#     fptr.write('\\n')\n",
    "\n",
    "#     fptr.close()"
   ]
  },
  {
   "cell_type": "code",
   "execution_count": null,
   "metadata": {},
   "outputs": [],
   "source": [
    "print(result)"
   ]
  }
 ],
 "metadata": {
  "kernelspec": {
   "display_name": "Python 3",
   "language": "python",
   "name": "python3"
  },
  "language_info": {
   "codemirror_mode": {
    "name": "ipython",
    "version": 3
   },
   "file_extension": ".py",
   "mimetype": "text/x-python",
   "name": "python",
   "nbconvert_exporter": "python",
   "pygments_lexer": "ipython3",
   "version": "3.7.3"
  }
 },
 "nbformat": 4,
 "nbformat_minor": 2
}
